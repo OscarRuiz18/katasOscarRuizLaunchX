{
 "cells": [
  {
   "cell_type": "markdown",
   "metadata": {},
   "source": [
    "En consola: ``virtualenv kata2``\n",
    "\n",
    "<img src=\"Captura1.PNG\">"
   ]
  },
  {
   "cell_type": "markdown",
   "metadata": {},
   "source": [
    "En consola: `` .\\kata2\\Script\\activate``\n",
    "\n",
    "<img src=\"Captura2.PNG\">"
   ]
  },
  {
   "cell_type": "markdown",
   "metadata": {},
   "source": [
    "En consola: ``pip install python-dateutil``\n",
    "\n",
    "<img src=\"Captura4.PNG\">"
   ]
  },
  {
   "cell_type": "markdown",
   "metadata": {},
   "source": [
    "En consola: \n",
    "``pip freeze`` | ``deactivate``\n",
    "\n",
    "<img src=\"Captura5.PNG\">"
   ]
  }
 ],
 "metadata": {
  "interpreter": {
   "hash": "bf80f7c02108d0e9963a436414fc49ef1abee5d7b960d8150b44c4405ea3408e"
  },
  "kernelspec": {
   "display_name": "Python 3.7.0 64-bit",
   "language": "python",
   "name": "python3"
  },
  "language_info": {
   "codemirror_mode": {
    "name": "ipython",
    "version": 3
   },
   "file_extension": ".py",
   "mimetype": "text/x-python",
   "name": "python",
   "nbconvert_exporter": "python",
   "pygments_lexer": "ipython3",
   "version": "3.7.0"
  },
  "orig_nbformat": 4
 },
 "nbformat": 4,
 "nbformat_minor": 2
}
