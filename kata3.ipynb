{
 "cells": [
  {
   "cell_type": "code",
   "execution_count": 6,
   "metadata": {},
   "outputs": [
    {
     "name": "stdout",
     "output_type": "stream",
     "text": [
      "¡ALERTA! Asteroide cerca\n"
     ]
    }
   ],
   "source": [
    "velAsteroid = input(\"¿Cuál es la velocidad del asteroide?\")\n",
    "if (int (velAsteroid) >=25):\n",
    "    print(\"¡ALERTA! Asteroide cerca\")"
   ]
  },
  {
   "cell_type": "code",
   "execution_count": 7,
   "metadata": {},
   "outputs": [
    {
     "name": "stdout",
     "output_type": "stream",
     "text": [
      "Nada que ver aqui\n"
     ]
    }
   ],
   "source": [
    "velAsteroide = 19\n",
    "if (velAsteroide >= 20):\n",
    "    print(\"Hay una luz mágica en el cielo\")\n",
    "else:\n",
    "    print(\"Nada que ver aqui\")"
   ]
  },
  {
   "cell_type": "code",
   "execution_count": 11,
   "metadata": {},
   "outputs": [
    {
     "name": "stdout",
     "output_type": "stream",
     "text": [
      "Se quemará cuando caiga\n"
     ]
    }
   ],
   "source": [
    "sizeAsteroid = 20\n",
    "velAsteroid = 40\n",
    "\n",
    "if (sizeAsteroid < 25 ):\n",
    "    print (\"Se quemará cuando caiga\")\n",
    "elif (sizeAsteroid > 25 and velAsteroid > 25):\n",
    "    print(\"Vamos a morir\")\n",
    "elif (velAsteroid>=20):\n",
    "    print(\"Mira una luz\")\n",
    "else:\n",
    "    print(\"Nada que ver señores\")"
   ]
  }
 ],
 "metadata": {
  "interpreter": {
   "hash": "bf80f7c02108d0e9963a436414fc49ef1abee5d7b960d8150b44c4405ea3408e"
  },
  "kernelspec": {
   "display_name": "Python 3.7.0 64-bit",
   "language": "python",
   "name": "python3"
  },
  "language_info": {
   "codemirror_mode": {
    "name": "ipython",
    "version": 3
   },
   "file_extension": ".py",
   "mimetype": "text/x-python",
   "name": "python",
   "nbconvert_exporter": "python",
   "pygments_lexer": "ipython3",
   "version": "3.7.0"
  },
  "orig_nbformat": 4
 },
 "nbformat": 4,
 "nbformat_minor": 2
}
