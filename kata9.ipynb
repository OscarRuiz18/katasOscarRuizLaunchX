{
 "cells": [
  {
   "cell_type": "markdown",
   "metadata": {},
   "source": [
    "#Ejercicio 1"
   ]
  },
  {
   "cell_type": "code",
   "execution_count": 45,
   "metadata": {},
   "outputs": [],
   "source": [
    "def tank(tank1,tank2,tank3):\n",
    "    prom= (tank1+tank2+tank3)/3\n",
    "    return f\"\"\"Reporte de combustible\n",
    "    Promedio= {prom}%\n",
    "    Tanque 1 = {tank1}%\n",
    "    Tanque 2 = {tank2}%\n",
    "    Tanque 3 = {tank3}%    \n",
    "    \"\"\"\n",
    "    "
   ]
  },
  {
   "cell_type": "code",
   "execution_count": 46,
   "metadata": {},
   "outputs": [
    {
     "name": "stdout",
     "output_type": "stream",
     "text": [
      "Reporte de combustible\n",
      "    Promedio= 11.666666666666666%\n",
      "    Tanque 1 = 5%\n",
      "    Tanque 2 = 10%\n",
      "    Tanque 3 = 20%    \n",
      "    \n"
     ]
    }
   ],
   "source": [
    "print(tank(5,10,20))"
   ]
  },
  {
   "cell_type": "code",
   "execution_count": 47,
   "metadata": {},
   "outputs": [],
   "source": [
    "def avarage(values):\n",
    "    total=sum(values)\n",
    "    promedio = total/len(values)\n",
    "    return promedio"
   ]
  },
  {
   "cell_type": "code",
   "execution_count": 48,
   "metadata": {},
   "outputs": [
    {
     "name": "stdout",
     "output_type": "stream",
     "text": [
      "Tanque promedio 11.666666666666666\n"
     ]
    }
   ],
   "source": [
    "print(\"Tanque promedio\",avarage({5,10,20}))"
   ]
  },
  {
   "cell_type": "code",
   "execution_count": 49,
   "metadata": {},
   "outputs": [],
   "source": [
    "def report(tank1,tank2,tank3):\n",
    "    prom= avarage([tank1,tank2,tank3])\n",
    "    return f\"\"\"Reporte de combustible\n",
    "    Promedio= {prom}%\n",
    "    Tanque 1 = {tank1}%\n",
    "    Tanque 2 = {tank2}%\n",
    "    Tanque 3 = {tank3}%    \n",
    "    \"\"\""
   ]
  },
  {
   "cell_type": "code",
   "execution_count": 50,
   "metadata": {},
   "outputs": [
    {
     "name": "stdout",
     "output_type": "stream",
     "text": [
      "Reporte de combustible\n",
      "    Promedio= 30.0%\n",
      "    Tanque 1 = 10%\n",
      "    Tanque 2 = 30%\n",
      "    Tanque 3 = 50%    \n",
      "    \n"
     ]
    }
   ],
   "source": [
    "print(report(10,30,50))"
   ]
  },
  {
   "cell_type": "markdown",
   "metadata": {},
   "source": [
    "#Ejercicio 2"
   ]
  },
  {
   "cell_type": "code",
   "execution_count": null,
   "metadata": {},
   "outputs": [],
   "source": [
    "def report_complete(temp,tank_izq,name_dest):\n",
    "    return f\"\"\"\n",
    "    Tiempo restante al destino= {temp} hrs.\n",
    "    Tanque izquierdo= {tank_izq}%%!\n",
    "    Lugar de destino= {name_dest}\n",
    "    \"\"\""
   ]
  },
  {
   "cell_type": "code",
   "execution_count": 53,
   "metadata": {},
   "outputs": [
    {
     "name": "stdout",
     "output_type": "stream",
     "text": [
      "\n",
      "    Lugar de destino: Luna\n",
      "    Tiempo de viaje estimado: 76 minutos\n",
      "    Total de combustible: 500000\n",
      "    \n"
     ]
    }
   ],
   "source": [
    "def report_complete (name_dest, *minutes, **fuel_reservoirs):\n",
    "    return f\"\"\"\n",
    "    Lugar de destino: {name_dest}\n",
    "    Tiempo de viaje estimado: {sum(minutes)} minutos\n",
    "    Total de combustible: {sum(fuel_reservoirs.values())}\n",
    "    \"\"\"\n",
    "\n",
    "print(report_complete(\"Luna\", 10, 15, 51, main=300000, external=200000))\n"
   ]
  },
  {
   "cell_type": "code",
   "execution_count": 57,
   "metadata": {},
   "outputs": [
    {
     "name": "stdout",
     "output_type": "stream",
     "text": [
      "\n",
      "    Lugar de destino: Moon\n",
      "    Tiempo de viaje estimado: 74 minutos\n",
      "    Total de combustible: 500000\n",
      "    tanque principal  ---> 300000 galones\n",
      "tanque externo  ---> 200000 galones\n",
      "\n"
     ]
    }
   ],
   "source": [
    "def report_complete (name_dest, *minutes, **fuel_reservoirs):\n",
    "    main = f\"\"\"\n",
    "    Lugar de destino: {name_dest}\n",
    "    Tiempo de viaje estimado: {sum(minutes)} minutos\n",
    "    Total de combustible: {sum(fuel_reservoirs.values())}\n",
    "    \"\"\"\n",
    "    for tank_name, gallons in fuel_reservoirs.items():\n",
    "        main += f\"tanque {tank_name}  ---> {gallons} galones\\n\"\n",
    "    return main\n",
    "\n",
    "print(report_complete(\"Moon\", 8, 11, 55, principal=300000, externo=200000))"
   ]
  }
 ],
 "metadata": {
  "interpreter": {
   "hash": "bf80f7c02108d0e9963a436414fc49ef1abee5d7b960d8150b44c4405ea3408e"
  },
  "kernelspec": {
   "display_name": "Python 3.7.0 64-bit",
   "language": "python",
   "name": "python3"
  },
  "language_info": {
   "codemirror_mode": {
    "name": "ipython",
    "version": 3
   },
   "file_extension": ".py",
   "mimetype": "text/x-python",
   "name": "python",
   "nbconvert_exporter": "python",
   "pygments_lexer": "ipython3",
   "version": "3.7.0"
  },
  "orig_nbformat": 4
 },
 "nbformat": 4,
 "nbformat_minor": 2
}
